{
  "nbformat": 4,
  "nbformat_minor": 0,
  "metadata": {
    "colab": {
      "provenance": [],
      "machine_shape": "hm"
    },
    "kernelspec": {
      "name": "python3",
      "display_name": "Python 3"
    },
    "language_info": {
      "name": "python"
    }
  },
  "cells": [
    {
      "cell_type": "code",
      "execution_count": 1,
      "metadata": {
        "colab": {
          "base_uri": "https://localhost:8080/"
        },
        "id": "G4cFR35Yofqy",
        "outputId": "86e5a3c6-8648-440f-dd46-bd56d232b592"
      },
      "outputs": [
        {
          "output_type": "stream",
          "name": "stdout",
          "text": [
            "Collecting pyspark\n",
            "  Downloading pyspark-3.5.1.tar.gz (317.0 MB)\n",
            "\u001b[2K     \u001b[90m━━━━━━━━━━━━━━━━━━━━━━━━━━━━━━━━━━━━━━━━\u001b[0m \u001b[32m317.0/317.0 MB\u001b[0m \u001b[31m2.7 MB/s\u001b[0m eta \u001b[36m0:00:00\u001b[0m\n",
            "\u001b[?25h  Preparing metadata (setup.py) ... \u001b[?25l\u001b[?25hdone\n",
            "Requirement already satisfied: py4j==0.10.9.7 in /usr/local/lib/python3.10/dist-packages (from pyspark) (0.10.9.7)\n",
            "Building wheels for collected packages: pyspark\n",
            "  Building wheel for pyspark (setup.py) ... \u001b[?25l\u001b[?25hdone\n",
            "  Created wheel for pyspark: filename=pyspark-3.5.1-py2.py3-none-any.whl size=317488491 sha256=d50bc05082f39e17b60adcfa56dce24003b1e54568321ce194e1c2b12a4e830b\n",
            "  Stored in directory: /root/.cache/pip/wheels/80/1d/60/2c256ed38dddce2fdd93be545214a63e02fbd8d74fb0b7f3a6\n",
            "Successfully built pyspark\n",
            "Installing collected packages: pyspark\n",
            "Successfully installed pyspark-3.5.1\n",
            "The following additional packages will be installed:\n",
            "  libxtst6 openjdk-8-jre-headless\n",
            "Suggested packages:\n",
            "  openjdk-8-demo openjdk-8-source libnss-mdns fonts-dejavu-extra fonts-nanum fonts-ipafont-gothic\n",
            "  fonts-ipafont-mincho fonts-wqy-microhei fonts-wqy-zenhei fonts-indic\n",
            "The following NEW packages will be installed:\n",
            "  libxtst6 openjdk-8-jdk-headless openjdk-8-jre-headless\n",
            "0 upgraded, 3 newly installed, 0 to remove and 45 not upgraded.\n",
            "Need to get 39.7 MB of archives.\n",
            "After this operation, 144 MB of additional disk space will be used.\n",
            "Selecting previously unselected package libxtst6:amd64.\n",
            "(Reading database ... 121753 files and directories currently installed.)\n",
            "Preparing to unpack .../libxtst6_2%3a1.2.3-1build4_amd64.deb ...\n",
            "Unpacking libxtst6:amd64 (2:1.2.3-1build4) ...\n",
            "Selecting previously unselected package openjdk-8-jre-headless:amd64.\n",
            "Preparing to unpack .../openjdk-8-jre-headless_8u402-ga-2ubuntu1~22.04_amd64.deb ...\n",
            "Unpacking openjdk-8-jre-headless:amd64 (8u402-ga-2ubuntu1~22.04) ...\n",
            "Selecting previously unselected package openjdk-8-jdk-headless:amd64.\n",
            "Preparing to unpack .../openjdk-8-jdk-headless_8u402-ga-2ubuntu1~22.04_amd64.deb ...\n",
            "Unpacking openjdk-8-jdk-headless:amd64 (8u402-ga-2ubuntu1~22.04) ...\n",
            "Setting up libxtst6:amd64 (2:1.2.3-1build4) ...\n",
            "Setting up openjdk-8-jre-headless:amd64 (8u402-ga-2ubuntu1~22.04) ...\n",
            "update-alternatives: using /usr/lib/jvm/java-8-openjdk-amd64/jre/bin/orbd to provide /usr/bin/orbd (orbd) in auto mode\n",
            "update-alternatives: using /usr/lib/jvm/java-8-openjdk-amd64/jre/bin/servertool to provide /usr/bin/servertool (servertool) in auto mode\n",
            "update-alternatives: using /usr/lib/jvm/java-8-openjdk-amd64/jre/bin/tnameserv to provide /usr/bin/tnameserv (tnameserv) in auto mode\n",
            "Setting up openjdk-8-jdk-headless:amd64 (8u402-ga-2ubuntu1~22.04) ...\n",
            "update-alternatives: using /usr/lib/jvm/java-8-openjdk-amd64/bin/clhsdb to provide /usr/bin/clhsdb (clhsdb) in auto mode\n",
            "update-alternatives: using /usr/lib/jvm/java-8-openjdk-amd64/bin/extcheck to provide /usr/bin/extcheck (extcheck) in auto mode\n",
            "update-alternatives: using /usr/lib/jvm/java-8-openjdk-amd64/bin/hsdb to provide /usr/bin/hsdb (hsdb) in auto mode\n",
            "update-alternatives: using /usr/lib/jvm/java-8-openjdk-amd64/bin/idlj to provide /usr/bin/idlj (idlj) in auto mode\n",
            "update-alternatives: using /usr/lib/jvm/java-8-openjdk-amd64/bin/javah to provide /usr/bin/javah (javah) in auto mode\n",
            "update-alternatives: using /usr/lib/jvm/java-8-openjdk-amd64/bin/jhat to provide /usr/bin/jhat (jhat) in auto mode\n",
            "update-alternatives: using /usr/lib/jvm/java-8-openjdk-amd64/bin/jsadebugd to provide /usr/bin/jsadebugd (jsadebugd) in auto mode\n",
            "update-alternatives: using /usr/lib/jvm/java-8-openjdk-amd64/bin/native2ascii to provide /usr/bin/native2ascii (native2ascii) in auto mode\n",
            "update-alternatives: using /usr/lib/jvm/java-8-openjdk-amd64/bin/schemagen to provide /usr/bin/schemagen (schemagen) in auto mode\n",
            "update-alternatives: using /usr/lib/jvm/java-8-openjdk-amd64/bin/wsgen to provide /usr/bin/wsgen (wsgen) in auto mode\n",
            "update-alternatives: using /usr/lib/jvm/java-8-openjdk-amd64/bin/wsimport to provide /usr/bin/wsimport (wsimport) in auto mode\n",
            "update-alternatives: using /usr/lib/jvm/java-8-openjdk-amd64/bin/xjc to provide /usr/bin/xjc (xjc) in auto mode\n",
            "Processing triggers for libc-bin (2.35-0ubuntu3.4) ...\n",
            "/sbin/ldconfig.real: /usr/local/lib/libtbbbind_2_0.so.3 is not a symbolic link\n",
            "\n",
            "/sbin/ldconfig.real: /usr/local/lib/libtbb.so.12 is not a symbolic link\n",
            "\n",
            "/sbin/ldconfig.real: /usr/local/lib/libtbbmalloc_proxy.so.2 is not a symbolic link\n",
            "\n",
            "/sbin/ldconfig.real: /usr/local/lib/libtbbbind.so.3 is not a symbolic link\n",
            "\n",
            "/sbin/ldconfig.real: /usr/local/lib/libtbbbind_2_5.so.3 is not a symbolic link\n",
            "\n",
            "/sbin/ldconfig.real: /usr/local/lib/libtbbmalloc.so.2 is not a symbolic link\n",
            "\n"
          ]
        }
      ],
      "source": [
        "!pip install pyspark\n",
        "!pip install -U -q PyDrive\n",
        "!apt install openjdk-8-jdk-headless -qq\n",
        "import os\n",
        "os.environ[\"JAVA_HOME\"] = \"/usr/lib/jvm/java-8-openjdk-amd64\""
      ]
    },
    {
      "cell_type": "code",
      "source": [
        "from pyspark.sql import SparkSession\n",
        "\n",
        "spark = SparkSession.builder\\\n",
        "        .master(\"local\")\\\n",
        "        .appName(\"Data Exploration\")\\\n",
        "        .getOrCreate()\n",
        "\n",
        "spark"
      ],
      "metadata": {
        "colab": {
          "base_uri": "https://localhost:8080/",
          "height": 219
        },
        "id": "TSQCPaz_qx4J",
        "outputId": "4b699f87-dd2c-434b-adcd-45e541376f37"
      },
      "execution_count": 2,
      "outputs": [
        {
          "output_type": "execute_result",
          "data": {
            "text/plain": [
              "<pyspark.sql.session.SparkSession at 0x7dcc67f299f0>"
            ],
            "text/html": [
              "\n",
              "            <div>\n",
              "                <p><b>SparkSession - in-memory</b></p>\n",
              "                \n",
              "        <div>\n",
              "            <p><b>SparkContext</b></p>\n",
              "\n",
              "            <p><a href=\"http://08a6d4901546:4040\">Spark UI</a></p>\n",
              "\n",
              "            <dl>\n",
              "              <dt>Version</dt>\n",
              "                <dd><code>v3.5.1</code></dd>\n",
              "              <dt>Master</dt>\n",
              "                <dd><code>local</code></dd>\n",
              "              <dt>AppName</dt>\n",
              "                <dd><code>Data Exploration</code></dd>\n",
              "            </dl>\n",
              "        </div>\n",
              "        \n",
              "            </div>\n",
              "        "
            ]
          },
          "metadata": {},
          "execution_count": 2
        }
      ]
    },
    {
      "cell_type": "code",
      "source": [
        "from google.colab import drive\n",
        "drive.mount('/content/drive')"
      ],
      "metadata": {
        "colab": {
          "base_uri": "https://localhost:8080/"
        },
        "id": "sIk1bpXurXBk",
        "outputId": "0fc857bf-4b4d-4f63-9de4-93e94213fa96"
      },
      "execution_count": 3,
      "outputs": [
        {
          "output_type": "stream",
          "name": "stdout",
          "text": [
            "Mounted at /content/drive\n"
          ]
        }
      ]
    },
    {
      "cell_type": "code",
      "source": [
        "import pandas as pd"
      ],
      "metadata": {
        "id": "DogNuOBFBRDB"
      },
      "execution_count": 4,
      "outputs": []
    },
    {
      "cell_type": "code",
      "source": [
        "df = spark.read.format(\"csv\").load(\"/content/drive/MyDrive/LSPDP Project/train_data.csv\", header=True, inferSchema=True)"
      ],
      "metadata": {
        "id": "p2bo5YzKsLg2"
      },
      "execution_count": null,
      "outputs": []
    },
    {
      "cell_type": "code",
      "source": [
        "df.count()"
      ],
      "metadata": {
        "colab": {
          "base_uri": "https://localhost:8080/"
        },
        "id": "nFxGZ5pbDFUc",
        "outputId": "8fcd51ae-d7f4-4039-d924-75ad16ba55ca"
      },
      "execution_count": null,
      "outputs": [
        {
          "output_type": "execute_result",
          "data": {
            "text/plain": [
              "5531451"
            ]
          },
          "metadata": {},
          "execution_count": 15
        }
      ]
    },
    {
      "cell_type": "code",
      "source": [
        "df.select(\"customer_ID\").distinct().count()"
      ],
      "metadata": {
        "colab": {
          "base_uri": "https://localhost:8080/"
        },
        "id": "AvItbtlaIlIF",
        "outputId": "01845f23-85a9-4b38-a0c5-b5e465aadd65"
      },
      "execution_count": null,
      "outputs": [
        {
          "output_type": "execute_result",
          "data": {
            "text/plain": [
              "458913"
            ]
          },
          "metadata": {},
          "execution_count": 22
        }
      ]
    },
    {
      "cell_type": "markdown",
      "source": [
        "#Sampling 10% of Dataset"
      ],
      "metadata": {
        "id": "ZJQoVrbM415I"
      }
    },
    {
      "cell_type": "code",
      "source": [
        "# Set the fraction you want to sample\n",
        "fraction_to_sample = 0.1  # 10% in this example\n",
        "\n",
        "# Randomly sample the DataFrame\n",
        "sampled_df = df.sample(withReplacement=False, fraction=fraction_to_sample, seed=42)\n",
        "\n",
        "# Define the path for the sampled CSV file\n",
        "output_path = \"/content/drive/MyDrive/LSPDP Project/sampled_train_data_features.csv\"\n",
        "\n",
        "# Export the sampled DataFrame to a CSV file\n",
        "sampled_df.write \\\n",
        "    .format(\"csv\") \\\n",
        "    .option(\"header\", \"true\") \\\n",
        "    .mode(\"overwrite\") \\\n",
        "    .save(output_path)\n"
      ],
      "metadata": {
        "id": "tFYLdRE8ycDU"
      },
      "execution_count": null,
      "outputs": []
    },
    {
      "cell_type": "code",
      "source": [
        "files_dir = \"/content/drive/MyDrive/LSPDP Project/sampled_train_data_features.csv\"\n",
        "csv_files = [file for file in os.listdir(files_dir) if file.endswith('.csv')]\n",
        "\n",
        "# Read each CSV file into a pandas DataFrame\n",
        "dfs = [pd.read_csv(os.path.join(files_dir, file)) for file in csv_files]\n",
        "\n",
        "# Concatenate the DataFrames along rows\n",
        "combined_df = pd.concat(dfs, ignore_index=True)\n",
        "\n",
        "# Write the combined DataFrame to a new CSV file\n",
        "combined_df.to_csv(\"combined_file.csv\", index=False)"
      ],
      "metadata": {
        "id": "ycLhpZruBT8v"
      },
      "execution_count": null,
      "outputs": []
    },
    {
      "cell_type": "code",
      "source": [
        "combined_df.shape"
      ],
      "metadata": {
        "colab": {
          "base_uri": "https://localhost:8080/"
        },
        "id": "cqayaQoSCnAN",
        "outputId": "f57f1ea8-38b8-4635-fa4e-b14fefe4c0fe"
      },
      "execution_count": null,
      "outputs": [
        {
          "output_type": "execute_result",
          "data": {
            "text/plain": [
              "(553840, 190)"
            ]
          },
          "metadata": {},
          "execution_count": 14
        }
      ]
    },
    {
      "cell_type": "code",
      "source": [
        "# Write the combined DataFrame to a new CSV file\n",
        "combined_df.to_csv(\"/content/drive/MyDrive/LSPDP Project/sampled_train_data_features_combined.csv\", index=False)"
      ],
      "metadata": {
        "id": "PwtyQj3LEA95"
      },
      "execution_count": null,
      "outputs": []
    },
    {
      "cell_type": "markdown",
      "source": [
        "#Get Labels of the sampled Dataset"
      ],
      "metadata": {
        "id": "HAHyVGpB5bY2"
      }
    },
    {
      "cell_type": "code",
      "source": [
        "train_labels =pd.read_csv(\"/content/drive/MyDrive/LSPDP Project/train_labels.csv\")\n",
        "sampled_df = pd.read_csv(\"/content/drive/MyDrive/LSPDP Project/sampled_train_data_features_combined.csv\")"
      ],
      "metadata": {
        "id": "Dp-7mvlvFWs-"
      },
      "execution_count": null,
      "outputs": []
    },
    {
      "cell_type": "code",
      "source": [
        "train_labels.shape"
      ],
      "metadata": {
        "colab": {
          "base_uri": "https://localhost:8080/"
        },
        "id": "OYvjfTVlH0VD",
        "outputId": "38dd23cf-3af7-409b-c98e-09d5191c3b60"
      },
      "execution_count": null,
      "outputs": [
        {
          "output_type": "execute_result",
          "data": {
            "text/plain": [
              "(458913, 2)"
            ]
          },
          "metadata": {},
          "execution_count": 6
        }
      ]
    },
    {
      "cell_type": "code",
      "source": [
        "sampled_df['customer_ID'].nunique()"
      ],
      "metadata": {
        "colab": {
          "base_uri": "https://localhost:8080/"
        },
        "id": "pPS7w7IaIMJ9",
        "outputId": "8c6b0468-86dc-492e-978d-d8a958879f6b"
      },
      "execution_count": null,
      "outputs": [
        {
          "output_type": "execute_result",
          "data": {
            "text/plain": [
              "323851"
            ]
          },
          "metadata": {},
          "execution_count": 7
        }
      ]
    },
    {
      "cell_type": "code",
      "source": [
        "sampled_df_customer_id = sampled_df['customer_ID']"
      ],
      "metadata": {
        "id": "96egor2pmEvb"
      },
      "execution_count": null,
      "outputs": []
    },
    {
      "cell_type": "code",
      "source": [
        "sampled_customer_ids = set(sampled_df['customer_ID'])"
      ],
      "metadata": {
        "id": "Ebava1sUlGBZ"
      },
      "execution_count": null,
      "outputs": []
    },
    {
      "cell_type": "code",
      "source": [
        "filtered_trained_labels = train_labels[train_labels['customer_ID'].isin(sampled_customer_ids)]"
      ],
      "metadata": {
        "id": "1wsKApAnnUPZ"
      },
      "execution_count": null,
      "outputs": []
    },
    {
      "cell_type": "code",
      "source": [
        "filtered_trained_labels.shape"
      ],
      "metadata": {
        "colab": {
          "base_uri": "https://localhost:8080/"
        },
        "id": "O0nGJHhznlIa",
        "outputId": "68d95b70-9b29-4863-a8c4-3eb300a8fc95"
      },
      "execution_count": null,
      "outputs": [
        {
          "output_type": "execute_result",
          "data": {
            "text/plain": [
              "(323851, 2)"
            ]
          },
          "metadata": {},
          "execution_count": 17
        }
      ]
    },
    {
      "cell_type": "code",
      "source": [
        "filtered_trained_labels.to_csv(\"/content/drive/MyDrive/LSPDP Project/filtered_train_labels.csv\", index=False)"
      ],
      "metadata": {
        "id": "j78oxq0gnYYm"
      },
      "execution_count": null,
      "outputs": []
    },
    {
      "cell_type": "markdown",
      "source": [
        "#Preprocessing Training DF\n",
        "## 1. Keeping imp features only\n",
        "## 2. Customer_ID from hex to int\n",
        "## 3. Aggregating by customer_ID to produce columns like: mean, std, min, max, last of that column\n",
        "## 4. Joining labels corresponding to customer ID"
      ],
      "metadata": {
        "id": "TGY2cgdhLnsM"
      }
    },
    {
      "cell_type": "code",
      "source": [
        "sampled_df = pd.read_csv(\"/content/drive/MyDrive/LSPDP Project/sampled_train_data_features_combined.csv\")"
      ],
      "metadata": {
        "id": "ipgik4l9n7QD"
      },
      "execution_count": null,
      "outputs": []
    },
    {
      "cell_type": "code",
      "source": [
        "imp_cols = ['P_2','D_39','B_4','B_3','D_46',\n",
        "            'B_5','R_1','D_42','S_3','B_2','B_1','P_3',\n",
        "            'B_11','D_43','D_47','B_9','customer_ID']"
      ],
      "metadata": {
        "id": "oEbRjBwcMXV7"
      },
      "execution_count": null,
      "outputs": []
    },
    {
      "cell_type": "code",
      "source": [
        "sampled_df_imp_cols = sampled_df.drop(columns=[col for col in sampled_df.columns if col not in imp_cols])"
      ],
      "metadata": {
        "id": "aLXcs7JTNJlb"
      },
      "execution_count": null,
      "outputs": []
    },
    {
      "cell_type": "code",
      "source": [
        "sampled_df_imp_cols.shape"
      ],
      "metadata": {
        "colab": {
          "base_uri": "https://localhost:8080/"
        },
        "id": "hHSsu4AYNMCR",
        "outputId": "0d8857f8-6a09-4198-8560-a3cc3996a05c"
      },
      "execution_count": null,
      "outputs": [
        {
          "output_type": "execute_result",
          "data": {
            "text/plain": [
              "(553840, 17)"
            ]
          },
          "metadata": {},
          "execution_count": 32
        }
      ]
    },
    {
      "cell_type": "code",
      "source": [
        "sampled_df_imp_cols['customer_ID'] = sampled_df_imp_cols['customer_ID'].apply(lambda x: int(x[-16:], 16))"
      ],
      "metadata": {
        "id": "LuU_gHzYYe8E"
      },
      "execution_count": null,
      "outputs": []
    },
    {
      "cell_type": "code",
      "source": [
        "grouped_sampled_df = sampled_df_imp_cols.groupby('customer_ID').agg(['mean', 'std', 'min', 'max', 'last'])"
      ],
      "metadata": {
        "id": "jhAJzFTbYtpV"
      },
      "execution_count": null,
      "outputs": []
    },
    {
      "cell_type": "code",
      "source": [
        "grouped_sampled_df.columns = ['{}-{}'.format(col[0], col[1]) for col in grouped_sampled_df.columns]\n",
        "grouped_sampled_df.reset_index(inplace=True)"
      ],
      "metadata": {
        "id": "hMc5-TCsY2YK"
      },
      "execution_count": null,
      "outputs": []
    },
    {
      "cell_type": "code",
      "source": [
        "grouped_sampled_df.shape"
      ],
      "metadata": {
        "colab": {
          "base_uri": "https://localhost:8080/"
        },
        "id": "l9RTALmnZAL8",
        "outputId": "c96f1484-7693-4d49-f025-02e609d994dd"
      },
      "execution_count": null,
      "outputs": [
        {
          "output_type": "execute_result",
          "data": {
            "text/plain": [
              "(323851, 81)"
            ]
          },
          "metadata": {},
          "execution_count": 45
        }
      ]
    },
    {
      "cell_type": "code",
      "source": [
        "filtered_trained_labels = pd.read_csv(\"/content/drive/MyDrive/LSPDP Project/filtered_train_labels.csv\")\n",
        "filtered_trained_labels['customer_ID'] = filtered_trained_labels['customer_ID'].apply(lambda x: int(x[-16:], 16))"
      ],
      "metadata": {
        "id": "M-tWY6cKZRZO"
      },
      "execution_count": null,
      "outputs": []
    },
    {
      "cell_type": "code",
      "source": [
        "filtered_trained_labels.shape"
      ],
      "metadata": {
        "colab": {
          "base_uri": "https://localhost:8080/"
        },
        "id": "8qDwoon8a5tV",
        "outputId": "e8f8ec73-05b2-4235-ef16-b39d96eb0f77"
      },
      "execution_count": null,
      "outputs": [
        {
          "output_type": "execute_result",
          "data": {
            "text/plain": [
              "(323851, 2)"
            ]
          },
          "metadata": {},
          "execution_count": 70
        }
      ]
    },
    {
      "cell_type": "code",
      "source": [
        "merged_df = pd.merge(filtered_trained_labels,grouped_sampled_df, on='customer_ID')"
      ],
      "metadata": {
        "id": "20sB02tAdYZL"
      },
      "execution_count": null,
      "outputs": []
    },
    {
      "cell_type": "code",
      "source": [
        "merged_df.shape"
      ],
      "metadata": {
        "colab": {
          "base_uri": "https://localhost:8080/"
        },
        "id": "UHpp-TN6ew2y",
        "outputId": "bdf99aa3-f158-47c8-bbeb-f16a58cddb03"
      },
      "execution_count": null,
      "outputs": [
        {
          "output_type": "execute_result",
          "data": {
            "text/plain": [
              "(323851, 82)"
            ]
          },
          "metadata": {},
          "execution_count": 78
        }
      ]
    },
    {
      "cell_type": "code",
      "source": [
        "merged_df.head(6)"
      ],
      "metadata": {
        "colab": {
          "base_uri": "https://localhost:8080/",
          "height": 304
        },
        "id": "nNkhgPIceyRs",
        "outputId": "9bf2bc59-b816-4894-9f31-c8b3abf7492b"
      },
      "execution_count": null,
      "outputs": [
        {
          "output_type": "execute_result",
          "data": {
            "text/plain": [
              "            customer_ID  target  P_2-mean   P_2-std   P_2-min   P_2-max  \\\n",
              "0  13914591055249847850       0  0.914767       NaN  0.914767  0.914767   \n",
              "1  11750091188498716901       0  0.914856  0.006219  0.910458  0.919253   \n",
              "2   6537921148391624412       0  0.623392       NaN  0.623392  0.623392   \n",
              "3   2065103583825424365       0  0.870445  0.012435  0.861652  0.879238   \n",
              "4   5835591494914154540       0  0.792005  0.010322  0.784706  0.799304   \n",
              "5  17981482738210298068       0  0.435276  0.036234  0.414269  0.477116   \n",
              "\n",
              "   P_2-last  D_39-mean  D_39-std  D_39-min  ...  P_3-mean   P_3-std   P_3-min  \\\n",
              "0  0.914767   0.003029       NaN  0.003029  ...  0.609996       NaN  0.609996   \n",
              "1  0.910458   0.122739  0.127922  0.032285  ...  0.586891  0.033069  0.563508   \n",
              "2  0.623392   0.008380       NaN  0.008380  ...  0.683057       NaN  0.683057   \n",
              "3  0.879238   0.005811  0.002352  0.004148  ...  0.523304  0.066040  0.476607   \n",
              "4  0.799304   0.285379  0.065336  0.239180  ...  0.540277  0.060027  0.497831   \n",
              "5  0.477116   0.003165  0.003074  0.000467  ...  0.636282  0.111426  0.557492   \n",
              "\n",
              "    P_3-max  P_3-last  B_11-mean  B_11-std  B_11-min  B_11-max  B_11-last  \n",
              "0  0.609996  0.609996   0.009845       NaN  0.009845  0.009845   0.009845  \n",
              "1  0.610275  0.563508   0.010075  0.002869  0.008047  0.012104   0.008047  \n",
              "2  0.683057  0.683057   0.004926       NaN  0.004926  0.004926   0.004926  \n",
              "3  0.570001  0.570001   0.008853  0.000695  0.008362  0.009344   0.009344  \n",
              "4  0.582723  0.497831   0.012851  0.004775  0.009474  0.016227   0.009474  \n",
              "5  0.715072  0.715072   0.035955  0.031122  0.003667  0.065763   0.003667  \n",
              "\n",
              "[6 rows x 82 columns]"
            ],
            "text/html": [
              "\n",
              "  <div id=\"df-312fdf73-0a83-4b7f-b43c-9aa68af7e06f\" class=\"colab-df-container\">\n",
              "    <div>\n",
              "<style scoped>\n",
              "    .dataframe tbody tr th:only-of-type {\n",
              "        vertical-align: middle;\n",
              "    }\n",
              "\n",
              "    .dataframe tbody tr th {\n",
              "        vertical-align: top;\n",
              "    }\n",
              "\n",
              "    .dataframe thead th {\n",
              "        text-align: right;\n",
              "    }\n",
              "</style>\n",
              "<table border=\"1\" class=\"dataframe\">\n",
              "  <thead>\n",
              "    <tr style=\"text-align: right;\">\n",
              "      <th></th>\n",
              "      <th>customer_ID</th>\n",
              "      <th>target</th>\n",
              "      <th>P_2-mean</th>\n",
              "      <th>P_2-std</th>\n",
              "      <th>P_2-min</th>\n",
              "      <th>P_2-max</th>\n",
              "      <th>P_2-last</th>\n",
              "      <th>D_39-mean</th>\n",
              "      <th>D_39-std</th>\n",
              "      <th>D_39-min</th>\n",
              "      <th>...</th>\n",
              "      <th>P_3-mean</th>\n",
              "      <th>P_3-std</th>\n",
              "      <th>P_3-min</th>\n",
              "      <th>P_3-max</th>\n",
              "      <th>P_3-last</th>\n",
              "      <th>B_11-mean</th>\n",
              "      <th>B_11-std</th>\n",
              "      <th>B_11-min</th>\n",
              "      <th>B_11-max</th>\n",
              "      <th>B_11-last</th>\n",
              "    </tr>\n",
              "  </thead>\n",
              "  <tbody>\n",
              "    <tr>\n",
              "      <th>0</th>\n",
              "      <td>13914591055249847850</td>\n",
              "      <td>0</td>\n",
              "      <td>0.914767</td>\n",
              "      <td>NaN</td>\n",
              "      <td>0.914767</td>\n",
              "      <td>0.914767</td>\n",
              "      <td>0.914767</td>\n",
              "      <td>0.003029</td>\n",
              "      <td>NaN</td>\n",
              "      <td>0.003029</td>\n",
              "      <td>...</td>\n",
              "      <td>0.609996</td>\n",
              "      <td>NaN</td>\n",
              "      <td>0.609996</td>\n",
              "      <td>0.609996</td>\n",
              "      <td>0.609996</td>\n",
              "      <td>0.009845</td>\n",
              "      <td>NaN</td>\n",
              "      <td>0.009845</td>\n",
              "      <td>0.009845</td>\n",
              "      <td>0.009845</td>\n",
              "    </tr>\n",
              "    <tr>\n",
              "      <th>1</th>\n",
              "      <td>11750091188498716901</td>\n",
              "      <td>0</td>\n",
              "      <td>0.914856</td>\n",
              "      <td>0.006219</td>\n",
              "      <td>0.910458</td>\n",
              "      <td>0.919253</td>\n",
              "      <td>0.910458</td>\n",
              "      <td>0.122739</td>\n",
              "      <td>0.127922</td>\n",
              "      <td>0.032285</td>\n",
              "      <td>...</td>\n",
              "      <td>0.586891</td>\n",
              "      <td>0.033069</td>\n",
              "      <td>0.563508</td>\n",
              "      <td>0.610275</td>\n",
              "      <td>0.563508</td>\n",
              "      <td>0.010075</td>\n",
              "      <td>0.002869</td>\n",
              "      <td>0.008047</td>\n",
              "      <td>0.012104</td>\n",
              "      <td>0.008047</td>\n",
              "    </tr>\n",
              "    <tr>\n",
              "      <th>2</th>\n",
              "      <td>6537921148391624412</td>\n",
              "      <td>0</td>\n",
              "      <td>0.623392</td>\n",
              "      <td>NaN</td>\n",
              "      <td>0.623392</td>\n",
              "      <td>0.623392</td>\n",
              "      <td>0.623392</td>\n",
              "      <td>0.008380</td>\n",
              "      <td>NaN</td>\n",
              "      <td>0.008380</td>\n",
              "      <td>...</td>\n",
              "      <td>0.683057</td>\n",
              "      <td>NaN</td>\n",
              "      <td>0.683057</td>\n",
              "      <td>0.683057</td>\n",
              "      <td>0.683057</td>\n",
              "      <td>0.004926</td>\n",
              "      <td>NaN</td>\n",
              "      <td>0.004926</td>\n",
              "      <td>0.004926</td>\n",
              "      <td>0.004926</td>\n",
              "    </tr>\n",
              "    <tr>\n",
              "      <th>3</th>\n",
              "      <td>2065103583825424365</td>\n",
              "      <td>0</td>\n",
              "      <td>0.870445</td>\n",
              "      <td>0.012435</td>\n",
              "      <td>0.861652</td>\n",
              "      <td>0.879238</td>\n",
              "      <td>0.879238</td>\n",
              "      <td>0.005811</td>\n",
              "      <td>0.002352</td>\n",
              "      <td>0.004148</td>\n",
              "      <td>...</td>\n",
              "      <td>0.523304</td>\n",
              "      <td>0.066040</td>\n",
              "      <td>0.476607</td>\n",
              "      <td>0.570001</td>\n",
              "      <td>0.570001</td>\n",
              "      <td>0.008853</td>\n",
              "      <td>0.000695</td>\n",
              "      <td>0.008362</td>\n",
              "      <td>0.009344</td>\n",
              "      <td>0.009344</td>\n",
              "    </tr>\n",
              "    <tr>\n",
              "      <th>4</th>\n",
              "      <td>5835591494914154540</td>\n",
              "      <td>0</td>\n",
              "      <td>0.792005</td>\n",
              "      <td>0.010322</td>\n",
              "      <td>0.784706</td>\n",
              "      <td>0.799304</td>\n",
              "      <td>0.799304</td>\n",
              "      <td>0.285379</td>\n",
              "      <td>0.065336</td>\n",
              "      <td>0.239180</td>\n",
              "      <td>...</td>\n",
              "      <td>0.540277</td>\n",
              "      <td>0.060027</td>\n",
              "      <td>0.497831</td>\n",
              "      <td>0.582723</td>\n",
              "      <td>0.497831</td>\n",
              "      <td>0.012851</td>\n",
              "      <td>0.004775</td>\n",
              "      <td>0.009474</td>\n",
              "      <td>0.016227</td>\n",
              "      <td>0.009474</td>\n",
              "    </tr>\n",
              "    <tr>\n",
              "      <th>5</th>\n",
              "      <td>17981482738210298068</td>\n",
              "      <td>0</td>\n",
              "      <td>0.435276</td>\n",
              "      <td>0.036234</td>\n",
              "      <td>0.414269</td>\n",
              "      <td>0.477116</td>\n",
              "      <td>0.477116</td>\n",
              "      <td>0.003165</td>\n",
              "      <td>0.003074</td>\n",
              "      <td>0.000467</td>\n",
              "      <td>...</td>\n",
              "      <td>0.636282</td>\n",
              "      <td>0.111426</td>\n",
              "      <td>0.557492</td>\n",
              "      <td>0.715072</td>\n",
              "      <td>0.715072</td>\n",
              "      <td>0.035955</td>\n",
              "      <td>0.031122</td>\n",
              "      <td>0.003667</td>\n",
              "      <td>0.065763</td>\n",
              "      <td>0.003667</td>\n",
              "    </tr>\n",
              "  </tbody>\n",
              "</table>\n",
              "<p>6 rows × 82 columns</p>\n",
              "</div>\n",
              "    <div class=\"colab-df-buttons\">\n",
              "\n",
              "  <div class=\"colab-df-container\">\n",
              "    <button class=\"colab-df-convert\" onclick=\"convertToInteractive('df-312fdf73-0a83-4b7f-b43c-9aa68af7e06f')\"\n",
              "            title=\"Convert this dataframe to an interactive table.\"\n",
              "            style=\"display:none;\">\n",
              "\n",
              "  <svg xmlns=\"http://www.w3.org/2000/svg\" height=\"24px\" viewBox=\"0 -960 960 960\">\n",
              "    <path d=\"M120-120v-720h720v720H120Zm60-500h600v-160H180v160Zm220 220h160v-160H400v160Zm0 220h160v-160H400v160ZM180-400h160v-160H180v160Zm440 0h160v-160H620v160ZM180-180h160v-160H180v160Zm440 0h160v-160H620v160Z\"/>\n",
              "  </svg>\n",
              "    </button>\n",
              "\n",
              "  <style>\n",
              "    .colab-df-container {\n",
              "      display:flex;\n",
              "      gap: 12px;\n",
              "    }\n",
              "\n",
              "    .colab-df-convert {\n",
              "      background-color: #E8F0FE;\n",
              "      border: none;\n",
              "      border-radius: 50%;\n",
              "      cursor: pointer;\n",
              "      display: none;\n",
              "      fill: #1967D2;\n",
              "      height: 32px;\n",
              "      padding: 0 0 0 0;\n",
              "      width: 32px;\n",
              "    }\n",
              "\n",
              "    .colab-df-convert:hover {\n",
              "      background-color: #E2EBFA;\n",
              "      box-shadow: 0px 1px 2px rgba(60, 64, 67, 0.3), 0px 1px 3px 1px rgba(60, 64, 67, 0.15);\n",
              "      fill: #174EA6;\n",
              "    }\n",
              "\n",
              "    .colab-df-buttons div {\n",
              "      margin-bottom: 4px;\n",
              "    }\n",
              "\n",
              "    [theme=dark] .colab-df-convert {\n",
              "      background-color: #3B4455;\n",
              "      fill: #D2E3FC;\n",
              "    }\n",
              "\n",
              "    [theme=dark] .colab-df-convert:hover {\n",
              "      background-color: #434B5C;\n",
              "      box-shadow: 0px 1px 3px 1px rgba(0, 0, 0, 0.15);\n",
              "      filter: drop-shadow(0px 1px 2px rgba(0, 0, 0, 0.3));\n",
              "      fill: #FFFFFF;\n",
              "    }\n",
              "  </style>\n",
              "\n",
              "    <script>\n",
              "      const buttonEl =\n",
              "        document.querySelector('#df-312fdf73-0a83-4b7f-b43c-9aa68af7e06f button.colab-df-convert');\n",
              "      buttonEl.style.display =\n",
              "        google.colab.kernel.accessAllowed ? 'block' : 'none';\n",
              "\n",
              "      async function convertToInteractive(key) {\n",
              "        const element = document.querySelector('#df-312fdf73-0a83-4b7f-b43c-9aa68af7e06f');\n",
              "        const dataTable =\n",
              "          await google.colab.kernel.invokeFunction('convertToInteractive',\n",
              "                                                    [key], {});\n",
              "        if (!dataTable) return;\n",
              "\n",
              "        const docLinkHtml = 'Like what you see? Visit the ' +\n",
              "          '<a target=\"_blank\" href=https://colab.research.google.com/notebooks/data_table.ipynb>data table notebook</a>'\n",
              "          + ' to learn more about interactive tables.';\n",
              "        element.innerHTML = '';\n",
              "        dataTable['output_type'] = 'display_data';\n",
              "        await google.colab.output.renderOutput(dataTable, element);\n",
              "        const docLink = document.createElement('div');\n",
              "        docLink.innerHTML = docLinkHtml;\n",
              "        element.appendChild(docLink);\n",
              "      }\n",
              "    </script>\n",
              "  </div>\n",
              "\n",
              "\n",
              "<div id=\"df-c0ee2671-9099-48b6-96ce-ea538bc550e6\">\n",
              "  <button class=\"colab-df-quickchart\" onclick=\"quickchart('df-c0ee2671-9099-48b6-96ce-ea538bc550e6')\"\n",
              "            title=\"Suggest charts\"\n",
              "            style=\"display:none;\">\n",
              "\n",
              "<svg xmlns=\"http://www.w3.org/2000/svg\" height=\"24px\"viewBox=\"0 0 24 24\"\n",
              "     width=\"24px\">\n",
              "    <g>\n",
              "        <path d=\"M19 3H5c-1.1 0-2 .9-2 2v14c0 1.1.9 2 2 2h14c1.1 0 2-.9 2-2V5c0-1.1-.9-2-2-2zM9 17H7v-7h2v7zm4 0h-2V7h2v10zm4 0h-2v-4h2v4z\"/>\n",
              "    </g>\n",
              "</svg>\n",
              "  </button>\n",
              "\n",
              "<style>\n",
              "  .colab-df-quickchart {\n",
              "      --bg-color: #E8F0FE;\n",
              "      --fill-color: #1967D2;\n",
              "      --hover-bg-color: #E2EBFA;\n",
              "      --hover-fill-color: #174EA6;\n",
              "      --disabled-fill-color: #AAA;\n",
              "      --disabled-bg-color: #DDD;\n",
              "  }\n",
              "\n",
              "  [theme=dark] .colab-df-quickchart {\n",
              "      --bg-color: #3B4455;\n",
              "      --fill-color: #D2E3FC;\n",
              "      --hover-bg-color: #434B5C;\n",
              "      --hover-fill-color: #FFFFFF;\n",
              "      --disabled-bg-color: #3B4455;\n",
              "      --disabled-fill-color: #666;\n",
              "  }\n",
              "\n",
              "  .colab-df-quickchart {\n",
              "    background-color: var(--bg-color);\n",
              "    border: none;\n",
              "    border-radius: 50%;\n",
              "    cursor: pointer;\n",
              "    display: none;\n",
              "    fill: var(--fill-color);\n",
              "    height: 32px;\n",
              "    padding: 0;\n",
              "    width: 32px;\n",
              "  }\n",
              "\n",
              "  .colab-df-quickchart:hover {\n",
              "    background-color: var(--hover-bg-color);\n",
              "    box-shadow: 0 1px 2px rgba(60, 64, 67, 0.3), 0 1px 3px 1px rgba(60, 64, 67, 0.15);\n",
              "    fill: var(--button-hover-fill-color);\n",
              "  }\n",
              "\n",
              "  .colab-df-quickchart-complete:disabled,\n",
              "  .colab-df-quickchart-complete:disabled:hover {\n",
              "    background-color: var(--disabled-bg-color);\n",
              "    fill: var(--disabled-fill-color);\n",
              "    box-shadow: none;\n",
              "  }\n",
              "\n",
              "  .colab-df-spinner {\n",
              "    border: 2px solid var(--fill-color);\n",
              "    border-color: transparent;\n",
              "    border-bottom-color: var(--fill-color);\n",
              "    animation:\n",
              "      spin 1s steps(1) infinite;\n",
              "  }\n",
              "\n",
              "  @keyframes spin {\n",
              "    0% {\n",
              "      border-color: transparent;\n",
              "      border-bottom-color: var(--fill-color);\n",
              "      border-left-color: var(--fill-color);\n",
              "    }\n",
              "    20% {\n",
              "      border-color: transparent;\n",
              "      border-left-color: var(--fill-color);\n",
              "      border-top-color: var(--fill-color);\n",
              "    }\n",
              "    30% {\n",
              "      border-color: transparent;\n",
              "      border-left-color: var(--fill-color);\n",
              "      border-top-color: var(--fill-color);\n",
              "      border-right-color: var(--fill-color);\n",
              "    }\n",
              "    40% {\n",
              "      border-color: transparent;\n",
              "      border-right-color: var(--fill-color);\n",
              "      border-top-color: var(--fill-color);\n",
              "    }\n",
              "    60% {\n",
              "      border-color: transparent;\n",
              "      border-right-color: var(--fill-color);\n",
              "    }\n",
              "    80% {\n",
              "      border-color: transparent;\n",
              "      border-right-color: var(--fill-color);\n",
              "      border-bottom-color: var(--fill-color);\n",
              "    }\n",
              "    90% {\n",
              "      border-color: transparent;\n",
              "      border-bottom-color: var(--fill-color);\n",
              "    }\n",
              "  }\n",
              "</style>\n",
              "\n",
              "  <script>\n",
              "    async function quickchart(key) {\n",
              "      const quickchartButtonEl =\n",
              "        document.querySelector('#' + key + ' button');\n",
              "      quickchartButtonEl.disabled = true;  // To prevent multiple clicks.\n",
              "      quickchartButtonEl.classList.add('colab-df-spinner');\n",
              "      try {\n",
              "        const charts = await google.colab.kernel.invokeFunction(\n",
              "            'suggestCharts', [key], {});\n",
              "      } catch (error) {\n",
              "        console.error('Error during call to suggestCharts:', error);\n",
              "      }\n",
              "      quickchartButtonEl.classList.remove('colab-df-spinner');\n",
              "      quickchartButtonEl.classList.add('colab-df-quickchart-complete');\n",
              "    }\n",
              "    (() => {\n",
              "      let quickchartButtonEl =\n",
              "        document.querySelector('#df-c0ee2671-9099-48b6-96ce-ea538bc550e6 button');\n",
              "      quickchartButtonEl.style.display =\n",
              "        google.colab.kernel.accessAllowed ? 'block' : 'none';\n",
              "    })();\n",
              "  </script>\n",
              "</div>\n",
              "\n",
              "    </div>\n",
              "  </div>\n"
            ],
            "application/vnd.google.colaboratory.intrinsic+json": {
              "type": "dataframe",
              "variable_name": "merged_df"
            }
          },
          "metadata": {},
          "execution_count": 80
        }
      ]
    },
    {
      "cell_type": "code",
      "source": [
        "merged_df.to_csv(\"/content/drive/MyDrive/LSPDP Project/sampled_dtree_training.csv\", index=False)"
      ],
      "metadata": {
        "id": "V0FAUAmPfJYr"
      },
      "execution_count": null,
      "outputs": []
    },
    {
      "cell_type": "code",
      "source": [
        "df = pd.read_csv(\"/content/drive/MyDrive/LSPDP Project/sampled_dtree_training.csv\")"
      ],
      "metadata": {
        "id": "5ODOoDX6fbbt"
      },
      "execution_count": 5,
      "outputs": []
    },
    {
      "cell_type": "code",
      "source": [
        "df.shape"
      ],
      "metadata": {
        "colab": {
          "base_uri": "https://localhost:8080/"
        },
        "id": "PzqMTBu_phve",
        "outputId": "21c65288-917f-4b26-a2c3-64ee48354a53"
      },
      "execution_count": 15,
      "outputs": [
        {
          "output_type": "execute_result",
          "data": {
            "text/plain": [
              "(323851, 82)"
            ]
          },
          "metadata": {},
          "execution_count": 15
        }
      ]
    },
    {
      "cell_type": "code",
      "source": [
        "df.columns"
      ],
      "metadata": {
        "colab": {
          "base_uri": "https://localhost:8080/"
        },
        "id": "-LpszsW9pnGE",
        "outputId": "bc0d6a0b-a687-4e31-9e38-4dfa74c8e969"
      },
      "execution_count": 16,
      "outputs": [
        {
          "output_type": "execute_result",
          "data": {
            "text/plain": [
              "Index(['customer_ID', 'target', 'P_2-mean', 'P_2-std', 'P_2-min', 'P_2-max',\n",
              "       'P_2-last', 'D_39-mean', 'D_39-std', 'D_39-min', 'D_39-max',\n",
              "       'D_39-last', 'B_1-mean', 'B_1-std', 'B_1-min', 'B_1-max', 'B_1-last',\n",
              "       'B_2-mean', 'B_2-std', 'B_2-min', 'B_2-max', 'B_2-last', 'R_1-mean',\n",
              "       'R_1-std', 'R_1-min', 'R_1-max', 'R_1-last', 'S_3-mean', 'S_3-std',\n",
              "       'S_3-min', 'S_3-max', 'S_3-last', 'B_3-mean', 'B_3-std', 'B_3-min',\n",
              "       'B_3-max', 'B_3-last', 'D_42-mean', 'D_42-std', 'D_42-min', 'D_42-max',\n",
              "       'D_42-last', 'D_43-mean', 'D_43-std', 'D_43-min', 'D_43-max',\n",
              "       'D_43-last', 'B_4-mean', 'B_4-std', 'B_4-min', 'B_4-max', 'B_4-last',\n",
              "       'B_5-mean', 'B_5-std', 'B_5-min', 'B_5-max', 'B_5-last', 'D_46-mean',\n",
              "       'D_46-std', 'D_46-min', 'D_46-max', 'D_46-last', 'D_47-mean',\n",
              "       'D_47-std', 'D_47-min', 'D_47-max', 'D_47-last', 'B_9-mean', 'B_9-std',\n",
              "       'B_9-min', 'B_9-max', 'B_9-last', 'P_3-mean', 'P_3-std', 'P_3-min',\n",
              "       'P_3-max', 'P_3-last', 'B_11-mean', 'B_11-std', 'B_11-min', 'B_11-max',\n",
              "       'B_11-last'],\n",
              "      dtype='object')"
            ]
          },
          "metadata": {},
          "execution_count": 16
        }
      ]
    },
    {
      "cell_type": "code",
      "source": [
        "df.drop('customer_ID', axis=1, inplace=True)"
      ],
      "metadata": {
        "id": "WlDmvRONpoTv"
      },
      "execution_count": 17,
      "outputs": []
    },
    {
      "cell_type": "code",
      "source": [
        "df.shape"
      ],
      "metadata": {
        "colab": {
          "base_uri": "https://localhost:8080/"
        },
        "id": "nMVOgbdypy7a",
        "outputId": "4f0807ac-4617-4ef3-e54e-1a98c56492b3"
      },
      "execution_count": 18,
      "outputs": [
        {
          "output_type": "execute_result",
          "data": {
            "text/plain": [
              "(323851, 81)"
            ]
          },
          "metadata": {},
          "execution_count": 18
        }
      ]
    },
    {
      "cell_type": "code",
      "source": [
        "df.columns"
      ],
      "metadata": {
        "colab": {
          "base_uri": "https://localhost:8080/"
        },
        "id": "qKcNfm6ppz-8",
        "outputId": "e67b8e6d-d501-49d2-9512-ac39fa573fa2"
      },
      "execution_count": 19,
      "outputs": [
        {
          "output_type": "execute_result",
          "data": {
            "text/plain": [
              "Index(['target', 'P_2-mean', 'P_2-std', 'P_2-min', 'P_2-max', 'P_2-last',\n",
              "       'D_39-mean', 'D_39-std', 'D_39-min', 'D_39-max', 'D_39-last',\n",
              "       'B_1-mean', 'B_1-std', 'B_1-min', 'B_1-max', 'B_1-last', 'B_2-mean',\n",
              "       'B_2-std', 'B_2-min', 'B_2-max', 'B_2-last', 'R_1-mean', 'R_1-std',\n",
              "       'R_1-min', 'R_1-max', 'R_1-last', 'S_3-mean', 'S_3-std', 'S_3-min',\n",
              "       'S_3-max', 'S_3-last', 'B_3-mean', 'B_3-std', 'B_3-min', 'B_3-max',\n",
              "       'B_3-last', 'D_42-mean', 'D_42-std', 'D_42-min', 'D_42-max',\n",
              "       'D_42-last', 'D_43-mean', 'D_43-std', 'D_43-min', 'D_43-max',\n",
              "       'D_43-last', 'B_4-mean', 'B_4-std', 'B_4-min', 'B_4-max', 'B_4-last',\n",
              "       'B_5-mean', 'B_5-std', 'B_5-min', 'B_5-max', 'B_5-last', 'D_46-mean',\n",
              "       'D_46-std', 'D_46-min', 'D_46-max', 'D_46-last', 'D_47-mean',\n",
              "       'D_47-std', 'D_47-min', 'D_47-max', 'D_47-last', 'B_9-mean', 'B_9-std',\n",
              "       'B_9-min', 'B_9-max', 'B_9-last', 'P_3-mean', 'P_3-std', 'P_3-min',\n",
              "       'P_3-max', 'P_3-last', 'B_11-mean', 'B_11-std', 'B_11-min', 'B_11-max',\n",
              "       'B_11-last'],\n",
              "      dtype='object')"
            ]
          },
          "metadata": {},
          "execution_count": 19
        }
      ]
    },
    {
      "cell_type": "code",
      "source": [
        "df.to_csv(\"/content/drive/MyDrive/LSPDP Project/sampled_dtree_training.csv\", index=False)"
      ],
      "metadata": {
        "id": "V-UrlKk-p1bQ"
      },
      "execution_count": 21,
      "outputs": []
    },
    {
      "cell_type": "code",
      "source": [
        "df.info()"
      ],
      "metadata": {
        "colab": {
          "base_uri": "https://localhost:8080/"
        },
        "id": "4rouH6amp-o-",
        "outputId": "09107cf8-86e6-4c8e-975f-567a17fa17ea"
      },
      "execution_count": 22,
      "outputs": [
        {
          "output_type": "stream",
          "name": "stdout",
          "text": [
            "<class 'pandas.core.frame.DataFrame'>\n",
            "RangeIndex: 323851 entries, 0 to 323850\n",
            "Data columns (total 81 columns):\n",
            " #   Column     Non-Null Count   Dtype  \n",
            "---  ------     --------------   -----  \n",
            " 0   target     323851 non-null  int64  \n",
            " 1   P_2-mean   321270 non-null  float64\n",
            " 2   P_2-std    156946 non-null  float64\n",
            " 3   P_2-min    321270 non-null  float64\n",
            " 4   P_2-max    321270 non-null  float64\n",
            " 5   P_2-last   321270 non-null  float64\n",
            " 6   D_39-mean  323851 non-null  float64\n",
            " 7   D_39-std   158379 non-null  float64\n",
            " 8   D_39-min   323851 non-null  float64\n",
            " 9   D_39-max   323851 non-null  float64\n",
            " 10  D_39-last  323851 non-null  float64\n",
            " 11  B_1-mean   323851 non-null  float64\n",
            " 12  B_1-std    158379 non-null  float64\n",
            " 13  B_1-min    323851 non-null  float64\n",
            " 14  B_1-max    323851 non-null  float64\n",
            " 15  B_1-last   323851 non-null  float64\n",
            " 16  B_2-mean   323746 non-null  float64\n",
            " 17  B_2-std    158299 non-null  float64\n",
            " 18  B_2-min    323746 non-null  float64\n",
            " 19  B_2-max    323746 non-null  float64\n",
            " 20  B_2-last   323746 non-null  float64\n",
            " 21  R_1-mean   323851 non-null  float64\n",
            " 22  R_1-std    158379 non-null  float64\n",
            " 23  R_1-min    323851 non-null  float64\n",
            " 24  R_1-max    323851 non-null  float64\n",
            " 25  R_1-last   323851 non-null  float64\n",
            " 26  S_3-mean   269969 non-null  float64\n",
            " 27  S_3-std    126341 non-null  float64\n",
            " 28  S_3-min    269969 non-null  float64\n",
            " 29  S_3-max    269969 non-null  float64\n",
            " 30  S_3-last   269969 non-null  float64\n",
            " 31  B_3-mean   323746 non-null  float64\n",
            " 32  B_3-std    158299 non-null  float64\n",
            " 33  B_3-min    323746 non-null  float64\n",
            " 34  B_3-max    323746 non-null  float64\n",
            " 35  B_3-last   323746 non-null  float64\n",
            " 36  D_42-mean  55058 non-null   float64\n",
            " 37  D_42-std   18279 non-null   float64\n",
            " 38  D_42-min   55058 non-null   float64\n",
            " 39  D_42-max   55058 non-null   float64\n",
            " 40  D_42-last  55058 non-null   float64\n",
            " 41  D_43-mean  233583 non-null  float64\n",
            " 42  D_43-std   108081 non-null  float64\n",
            " 43  D_43-min   233583 non-null  float64\n",
            " 44  D_43-max   233583 non-null  float64\n",
            " 45  D_43-last  233583 non-null  float64\n",
            " 46  B_4-mean   323851 non-null  float64\n",
            " 47  B_4-std    158379 non-null  float64\n",
            " 48  B_4-min    323851 non-null  float64\n",
            " 49  B_4-max    323851 non-null  float64\n",
            " 50  B_4-last   323851 non-null  float64\n",
            " 51  B_5-mean   323851 non-null  float64\n",
            " 52  B_5-std    158379 non-null  float64\n",
            " 53  B_5-min    323851 non-null  float64\n",
            " 54  B_5-max    323851 non-null  float64\n",
            " 55  B_5-last   323851 non-null  float64\n",
            " 56  D_46-mean  256861 non-null  float64\n",
            " 57  D_46-std   122075 non-null  float64\n",
            " 58  D_46-min   256861 non-null  float64\n",
            " 59  D_46-max   256861 non-null  float64\n",
            " 60  D_46-last  256861 non-null  float64\n",
            " 61  D_47-mean  323851 non-null  float64\n",
            " 62  D_47-std   158379 non-null  float64\n",
            " 63  D_47-min   323851 non-null  float64\n",
            " 64  D_47-max   323851 non-null  float64\n",
            " 65  D_47-last  323851 non-null  float64\n",
            " 66  B_9-mean   323851 non-null  float64\n",
            " 67  B_9-std    158379 non-null  float64\n",
            " 68  B_9-min    323851 non-null  float64\n",
            " 69  B_9-max    323851 non-null  float64\n",
            " 70  B_9-last   323851 non-null  float64\n",
            " 71  P_3-mean   306988 non-null  float64\n",
            " 72  P_3-std    149465 non-null  float64\n",
            " 73  P_3-min    306988 non-null  float64\n",
            " 74  P_3-max    306988 non-null  float64\n",
            " 75  P_3-last   306988 non-null  float64\n",
            " 76  B_11-mean  323851 non-null  float64\n",
            " 77  B_11-std   158379 non-null  float64\n",
            " 78  B_11-min   323851 non-null  float64\n",
            " 79  B_11-max   323851 non-null  float64\n",
            " 80  B_11-last  323851 non-null  float64\n",
            "dtypes: float64(80), int64(1)\n",
            "memory usage: 200.1 MB\n"
          ]
        }
      ]
    },
    {
      "cell_type": "code",
      "source": [
        "df.isna().sum() != 0"
      ],
      "metadata": {
        "colab": {
          "base_uri": "https://localhost:8080/"
        },
        "id": "wptrbArHxumi",
        "outputId": "c7efd909-dbff-4d1b-c926-db6ef349e1a3"
      },
      "execution_count": 24,
      "outputs": [
        {
          "output_type": "execute_result",
          "data": {
            "text/plain": [
              "target       False\n",
              "P_2-mean      True\n",
              "P_2-std       True\n",
              "P_2-min       True\n",
              "P_2-max       True\n",
              "             ...  \n",
              "B_11-mean    False\n",
              "B_11-std      True\n",
              "B_11-min     False\n",
              "B_11-max     False\n",
              "B_11-last    False\n",
              "Length: 81, dtype: bool"
            ]
          },
          "metadata": {},
          "execution_count": 24
        }
      ]
    },
    {
      "cell_type": "code",
      "source": [],
      "metadata": {
        "id": "VUJKj3ipx4rw"
      },
      "execution_count": null,
      "outputs": []
    }
  ]
}